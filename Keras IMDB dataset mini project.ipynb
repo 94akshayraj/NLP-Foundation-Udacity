{
 "cells": [
  {
   "cell_type": "code",
   "execution_count": 22,
   "metadata": {},
   "outputs": [],
   "source": [
    "from keras.datasets import imdb\n",
    "from keras.models import Sequential\n",
    "from keras.layers import Dense,Activation,Dropout\n",
    "from keras.preprocessing.text import Tokenizer"
   ]
  },
  {
   "cell_type": "code",
   "execution_count": 28,
   "metadata": {},
   "outputs": [],
   "source": [
    "(x_train, y_train), (x_test, y_test) = imdb.load_data()"
   ]
  },
  {
   "cell_type": "code",
   "execution_count": 20,
   "metadata": {},
   "outputs": [
    {
     "data": {
      "text/plain": [
       "((25000,), (25000,), (25000,), (25000,))"
      ]
     },
     "execution_count": 20,
     "metadata": {},
     "output_type": "execute_result"
    }
   ],
   "source": [
    "x_train.shape,x_test.shape,y_train.shape,y_test.shape"
   ]
  },
  {
   "cell_type": "code",
   "execution_count": 29,
   "metadata": {},
   "outputs": [],
   "source": [
    "tokenizer = Tokenizer(1000)\n",
    "x_train = tokenizer.sequences_to_matrix(x_train,\"binary\")\n",
    "x_test = tokenizer.sequences_to_matrix(x_test,\"binary\")"
   ]
  },
  {
   "cell_type": "code",
   "execution_count": 34,
   "metadata": {},
   "outputs": [],
   "source": [
    "y_train = keras.utils.to_categorical(y_train,2)\n",
    "y_test = keras.utils.to_categorical(y_test,2)"
   ]
  },
  {
   "cell_type": "code",
   "execution_count": 21,
   "metadata": {},
   "outputs": [],
   "source": [
    "model=Sequential()"
   ]
  },
  {
   "cell_type": "code",
   "execution_count": 36,
   "metadata": {},
   "outputs": [],
   "source": [
    "model.add(Dense(512,activation = 'relu',input_dim=1000))\n",
    "model.add(Dropout(0.5))\n",
    "model.add(Dense(2,activation='softmax'))"
   ]
  },
  {
   "cell_type": "code",
   "execution_count": 39,
   "metadata": {},
   "outputs": [
    {
     "name": "stdout",
     "output_type": "stream",
     "text": [
      "_________________________________________________________________\n",
      "Layer (type)                 Output Shape              Param #   \n",
      "=================================================================\n",
      "dense_1 (Dense)              (None, 512)               512512    \n",
      "_________________________________________________________________\n",
      "dropout_1 (Dropout)          (None, 512)               0         \n",
      "_________________________________________________________________\n",
      "dense_2 (Dense)              (None, 512)               262656    \n",
      "_________________________________________________________________\n",
      "dropout_2 (Dropout)          (None, 512)               0         \n",
      "_________________________________________________________________\n",
      "dense_3 (Dense)              (None, 2)                 1026      \n",
      "=================================================================\n",
      "Total params: 776,194\n",
      "Trainable params: 776,194\n",
      "Non-trainable params: 0\n",
      "_________________________________________________________________\n"
     ]
    }
   ],
   "source": [
    "model.compile('rmsprop','categorical_crossentropy',['accuracy'])\n",
    "model.summary()"
   ]
  },
  {
   "cell_type": "code",
   "execution_count": 42,
   "metadata": {},
   "outputs": [
    {
     "name": "stdout",
     "output_type": "stream",
     "text": [
      "Train on 25000 samples, validate on 25000 samples\n",
      "Epoch 1/10\n",
      " - 11s - loss: 0.4260 - acc: 0.8154 - val_loss: 0.3522 - val_acc: 0.8490\n",
      "Epoch 2/10\n",
      " - 11s - loss: 0.3587 - acc: 0.8584 - val_loss: 0.3388 - val_acc: 0.8610\n",
      "Epoch 3/10\n",
      " - 11s - loss: 0.3455 - acc: 0.8702 - val_loss: 0.3759 - val_acc: 0.8619\n",
      "Epoch 4/10\n",
      " - 14s - loss: 0.3380 - acc: 0.8760 - val_loss: 0.3643 - val_acc: 0.8574\n",
      "Epoch 5/10\n",
      " - 13s - loss: 0.3286 - acc: 0.8812 - val_loss: 0.3994 - val_acc: 0.8534\n",
      "Epoch 6/10\n",
      " - 13s - loss: 0.3211 - acc: 0.8896 - val_loss: 0.4256 - val_acc: 0.8609\n",
      "Epoch 7/10\n",
      " - 12s - loss: 0.3129 - acc: 0.8950 - val_loss: 0.4637 - val_acc: 0.8610\n",
      "Epoch 8/10\n",
      " - 12s - loss: 0.3113 - acc: 0.9024 - val_loss: 0.4358 - val_acc: 0.8605\n",
      "Epoch 9/10\n",
      " - 11s - loss: 0.2933 - acc: 0.9118 - val_loss: 0.5283 - val_acc: 0.8587\n",
      "Epoch 10/10\n",
      " - 10s - loss: 0.2795 - acc: 0.9211 - val_loss: 0.5336 - val_acc: 0.8580\n"
     ]
    }
   ],
   "source": [
    "hist = model.fit(x_train,y_train,batch_size=32,epochs=10,validation_data=(x_test,y_test),verbose=2)"
   ]
  },
  {
   "cell_type": "code",
   "execution_count": null,
   "metadata": {},
   "outputs": [],
   "source": [
    "score = model.evaluate(x_test, y_test, verbose=0)\n",
    "print(\"accuracy: \", score[1])"
   ]
  }
 ],
 "metadata": {
  "kernelspec": {
   "display_name": "Python 2",
   "language": "python",
   "name": "python2"
  },
  "language_info": {
   "codemirror_mode": {
    "name": "ipython",
    "version": 2
   },
   "file_extension": ".py",
   "mimetype": "text/x-python",
   "name": "python",
   "nbconvert_exporter": "python",
   "pygments_lexer": "ipython2",
   "version": "2.7.14"
  }
 },
 "nbformat": 4,
 "nbformat_minor": 2
}
